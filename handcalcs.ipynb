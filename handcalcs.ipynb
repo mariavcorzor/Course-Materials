{
 "cells": [
  {
   "cell_type": "code",
   "execution_count": 7,
   "id": "f6b33e05",
   "metadata": {},
   "outputs": [
    {
     "name": "stdout",
     "output_type": "stream",
     "text": [
      "Requirement already satisfied: handcalcs in c:\\users\\17863\\onedrive\\documents\\mee383\\lib\\site-packages (1.6.5)\n",
      "Requirement already satisfied: pyparsing in c:\\users\\17863\\onedrive\\documents\\mee383\\lib\\site-packages (from handcalcs) (3.0.9)\n",
      "Requirement already satisfied: more_itertools in c:\\users\\17863\\onedrive\\documents\\mee383\\lib\\site-packages (from handcalcs) (9.1.0)\n",
      "Requirement already satisfied: innerscope in c:\\users\\17863\\onedrive\\documents\\mee383\\lib\\site-packages (from handcalcs) (0.5.1)\n",
      "Requirement already satisfied: nbconvert>=6.0 in c:\\users\\17863\\onedrive\\documents\\mee383\\lib\\site-packages (from handcalcs) (6.4.4)\n",
      "Requirement already satisfied: entrypoints>=0.2.2 in c:\\users\\17863\\onedrive\\documents\\mee383\\lib\\site-packages (from nbconvert>=6.0->handcalcs) (0.4)\n",
      "Requirement already satisfied: nbclient<0.6.0,>=0.5.0 in c:\\users\\17863\\onedrive\\documents\\mee383\\lib\\site-packages (from nbconvert>=6.0->handcalcs) (0.5.13)\n",
      "Requirement already satisfied: bleach in c:\\users\\17863\\onedrive\\documents\\mee383\\lib\\site-packages (from nbconvert>=6.0->handcalcs) (4.1.0)\n",
      "Requirement already satisfied: pandocfilters>=1.4.1 in c:\\users\\17863\\onedrive\\documents\\mee383\\lib\\site-packages (from nbconvert>=6.0->handcalcs) (1.5.0)\n",
      "Requirement already satisfied: pygments>=2.4.1 in c:\\users\\17863\\onedrive\\documents\\mee383\\lib\\site-packages (from nbconvert>=6.0->handcalcs) (2.11.2)\n",
      "Requirement already satisfied: testpath in c:\\users\\17863\\onedrive\\documents\\mee383\\lib\\site-packages (from nbconvert>=6.0->handcalcs) (0.6.0)\n",
      "Requirement already satisfied: mistune<2,>=0.8.1 in c:\\users\\17863\\onedrive\\documents\\mee383\\lib\\site-packages (from nbconvert>=6.0->handcalcs) (0.8.4)\n",
      "Requirement already satisfied: defusedxml in c:\\users\\17863\\onedrive\\documents\\mee383\\lib\\site-packages (from nbconvert>=6.0->handcalcs) (0.7.1)\n",
      "Requirement already satisfied: jupyterlab-pygments in c:\\users\\17863\\onedrive\\documents\\mee383\\lib\\site-packages (from nbconvert>=6.0->handcalcs) (0.1.2)\n",
      "Requirement already satisfied: beautifulsoup4 in c:\\users\\17863\\onedrive\\documents\\mee383\\lib\\site-packages (from nbconvert>=6.0->handcalcs) (4.11.1)\n",
      "Requirement already satisfied: nbformat>=4.4 in c:\\users\\17863\\onedrive\\documents\\mee383\\lib\\site-packages (from nbconvert>=6.0->handcalcs) (5.5.0)\n",
      "Requirement already satisfied: jinja2>=2.4 in c:\\users\\17863\\onedrive\\documents\\mee383\\lib\\site-packages (from nbconvert>=6.0->handcalcs) (2.11.3)\n",
      "Requirement already satisfied: traitlets>=5.0 in c:\\users\\17863\\onedrive\\documents\\mee383\\lib\\site-packages (from nbconvert>=6.0->handcalcs) (5.1.1)\n",
      "Requirement already satisfied: jupyter-core in c:\\users\\17863\\onedrive\\documents\\mee383\\lib\\site-packages (from nbconvert>=6.0->handcalcs) (4.11.1)\n",
      "Requirement already satisfied: toolz in c:\\users\\17863\\onedrive\\documents\\mee383\\lib\\site-packages (from innerscope->handcalcs) (0.11.2)\n",
      "Requirement already satisfied: MarkupSafe>=0.23 in c:\\users\\17863\\onedrive\\documents\\mee383\\lib\\site-packages (from jinja2>=2.4->nbconvert>=6.0->handcalcs) (2.0.1)\n",
      "Requirement already satisfied: jupyter-client>=6.1.5 in c:\\users\\17863\\onedrive\\documents\\mee383\\lib\\site-packages (from nbclient<0.6.0,>=0.5.0->nbconvert>=6.0->handcalcs) (7.3.4)\n",
      "Requirement already satisfied: nest-asyncio in c:\\users\\17863\\onedrive\\documents\\mee383\\lib\\site-packages (from nbclient<0.6.0,>=0.5.0->nbconvert>=6.0->handcalcs) (1.5.5)\n",
      "Requirement already satisfied: fastjsonschema in c:\\users\\17863\\onedrive\\documents\\mee383\\lib\\site-packages (from nbformat>=4.4->nbconvert>=6.0->handcalcs) (2.16.2)\n",
      "Requirement already satisfied: jsonschema>=2.6 in c:\\users\\17863\\onedrive\\documents\\mee383\\lib\\site-packages (from nbformat>=4.4->nbconvert>=6.0->handcalcs) (4.16.0)\n",
      "Requirement already satisfied: soupsieve>1.2 in c:\\users\\17863\\onedrive\\documents\\mee383\\lib\\site-packages (from beautifulsoup4->nbconvert>=6.0->handcalcs) (2.3.1)\n",
      "Requirement already satisfied: six>=1.9.0 in c:\\users\\17863\\onedrive\\documents\\mee383\\lib\\site-packages (from bleach->nbconvert>=6.0->handcalcs) (1.16.0)\n",
      "Requirement already satisfied: webencodings in c:\\users\\17863\\onedrive\\documents\\mee383\\lib\\site-packages (from bleach->nbconvert>=6.0->handcalcs) (0.5.1)\n",
      "Requirement already satisfied: packaging in c:\\users\\17863\\onedrive\\documents\\mee383\\lib\\site-packages (from bleach->nbconvert>=6.0->handcalcs) (21.3)\n",
      "Requirement already satisfied: pywin32>=1.0 in c:\\users\\17863\\onedrive\\documents\\mee383\\lib\\site-packages (from jupyter-core->nbconvert>=6.0->handcalcs) (302)\n",
      "Requirement already satisfied: attrs>=17.4.0 in c:\\users\\17863\\onedrive\\documents\\mee383\\lib\\site-packages (from jsonschema>=2.6->nbformat>=4.4->nbconvert>=6.0->handcalcs) (21.4.0)\n",
      "Requirement already satisfied: pyrsistent!=0.17.0,!=0.17.1,!=0.17.2,>=0.14.0 in c:\\users\\17863\\onedrive\\documents\\mee383\\lib\\site-packages (from jsonschema>=2.6->nbformat>=4.4->nbconvert>=6.0->handcalcs) (0.18.0)\n",
      "Requirement already satisfied: pyzmq>=23.0 in c:\\users\\17863\\onedrive\\documents\\mee383\\lib\\site-packages (from jupyter-client>=6.1.5->nbclient<0.6.0,>=0.5.0->nbconvert>=6.0->handcalcs) (23.2.0)\n",
      "Requirement already satisfied: tornado>=6.0 in c:\\users\\17863\\onedrive\\documents\\mee383\\lib\\site-packages (from jupyter-client>=6.1.5->nbclient<0.6.0,>=0.5.0->nbconvert>=6.0->handcalcs) (6.1)\n",
      "Requirement already satisfied: python-dateutil>=2.8.2 in c:\\users\\17863\\onedrive\\documents\\mee383\\lib\\site-packages (from jupyter-client>=6.1.5->nbclient<0.6.0,>=0.5.0->nbconvert>=6.0->handcalcs) (2.8.2)\n",
      "Note: you may need to restart the kernel to use updated packages.\n"
     ]
    }
   ],
   "source": [
    "pip install handcalcs\n"
   ]
  },
  {
   "cell_type": "code",
   "execution_count": 9,
   "id": "d7fafa26",
   "metadata": {},
   "outputs": [
    {
     "data": {
      "text/latex": [
       "\\[\n",
       "\\begin{aligned}\n",
       "x &= 5 \\; \n",
       "\\\\[10pt]\n",
       "y &= 6 \\; \n",
       "\\\\[10pt]\n",
       "z &= x + y  = 5 + 6 &= 11  \n",
       "\\end{aligned}\n",
       "\\]"
      ],
      "text/plain": [
       "<IPython.core.display.Latex object>"
      ]
     },
     "metadata": {},
     "output_type": "display_data"
    }
   ],
   "source": [
    "%%render \n",
    " \n",
    "x = 5\n",
    "y = 6\n",
    " \n",
    "# run the code below in a new Jupyter cell\n",
    "\n",
    "z = x + y"
   ]
  },
  {
   "cell_type": "code",
   "execution_count": null,
   "id": "d19b1e4d",
   "metadata": {},
   "outputs": [],
   "source": [
    "%%render symbolic #symbolic only shows the expression of functions and does not show solution\n",
    " \n",
    "x = 5.2\n",
    "y = 6.3\n",
    " \n",
    "# run the code below in a new Jupyter cell\n",
    "\n",
    "z = x + y"
   ]
  },
  {
   "cell_type": "code",
   "execution_count": 15,
   "id": "608db4c6",
   "metadata": {},
   "outputs": [
    {
     "data": {
      "text/latex": [
       "\\[\n",
       "\\begin{aligned}\n",
       "x &= 5 \\; \n",
       "\\\\[10pt]\n",
       "y &= 6 \\; \n",
       "\\\\[10pt]\n",
       "z &= x + y  = 5 + 6 &= 11  \n",
       "\\end{aligned}\n",
       "\\]"
      ],
      "text/plain": [
       "<IPython.core.display.Latex object>"
      ]
     },
     "metadata": {},
     "output_type": "display_data"
    }
   ],
   "source": [
    "%%render short #short makes the math appear in a single line\n",
    " \n",
    "x = 5\n",
    "y = 6\n",
    " \n",
    "# run the code below in a new Jupyter cell\n",
    "\n",
    "z = x + y"
   ]
  },
  {
   "cell_type": "code",
   "execution_count": 14,
   "id": "6243160a",
   "metadata": {},
   "outputs": [
    {
     "data": {
      "text/latex": [
       "\\[\n",
       "\\begin{aligned}\n",
       "x &= 5 \\; \n",
       "\\\\[10pt]\n",
       "y &= 6 \\; \n",
       "\\\\[10pt]\n",
       "z &= x + y \\\\&= 5 + 6 \\\\&= 11  \\\\[10pt]\n",
       "\\end{aligned}\n",
       "\\]"
      ],
      "text/plain": [
       "<IPython.core.display.Latex object>"
      ]
     },
     "metadata": {},
     "output_type": "display_data"
    }
   ],
   "source": [
    "%%render long #long makes the math appear across multiple lines\n",
    " \n",
    "x = 5\n",
    "y = 6\n",
    " \n",
    "# run the code below in a new Jupyter cell\n",
    "\n",
    "z = x + y"
   ]
  },
  {
   "cell_type": "code",
   "execution_count": 11,
   "id": "9b587ef8",
   "metadata": {},
   "outputs": [
    {
     "data": {
      "text/latex": [
       "\\[\n",
       "\\begin{aligned}\n",
       "x &= 5.20000 \\; \n",
       "\\\\[10pt]\n",
       "y &= 6.30000 \\; \n",
       "\\\\[10pt]\n",
       "z &= x + y  = 5.20000 + 6.30000 &= 11.50000  \n",
       "\\end{aligned}\n",
       "\\]"
      ],
      "text/plain": [
       "<IPython.core.display.Latex object>"
      ]
     },
     "metadata": {},
     "output_type": "display_data"
    }
   ],
   "source": [
    "%%render 5 #number specifies decimal places\n",
    " \n",
    "x = 5.2\n",
    "y = 6.3\n",
    " \n",
    "# run the code below in a new Jupyter cell\n",
    "\n",
    "z = x + y"
   ]
  },
  {
   "cell_type": "code",
   "execution_count": 10,
   "id": "c238d363",
   "metadata": {},
   "outputs": [
    {
     "data": {
      "text/latex": [
       "\\[\n",
       "\\begin{aligned}\n",
       "x &= 5 \\; \n",
       " &y &= 6 \\; \n",
       " &z &= 11 \\; \n",
       "\\\\[10pt]\n",
       "\\end{aligned}\n",
       "\\]"
      ],
      "text/plain": [
       "<IPython.core.display.Latex object>"
      ]
     },
     "metadata": {},
     "output_type": "display_data"
    }
   ],
   "source": [
    "%%render param #like short makes it all appear in one line, and it also doesn't show math process\n",
    " \n",
    "x = 5\n",
    "y = 6\n",
    " \n",
    "# run the code below in a new Jupyter cell\n",
    "\n",
    "z = x + y"
   ]
  },
  {
   "cell_type": "code",
   "execution_count": 12,
   "id": "e6c7a073",
   "metadata": {},
   "outputs": [
    {
     "data": {
      "text/latex": [
       "\\[\n",
       "\\begin{aligned}\n",
       "x &= 5.20000 \\; \n",
       " &y &= 6.30000 \\; \n",
       " &z &= 11.50000 \\; \n",
       "\\\\[10pt]\n",
       "\\end{aligned}\n",
       "\\]"
      ],
      "text/plain": [
       "<IPython.core.display.Latex object>"
      ]
     },
     "metadata": {},
     "output_type": "display_data"
    }
   ],
   "source": [
    "%%render param 5\n",
    " \n",
    "x = 5.2\n",
    "y = 6.3\n",
    " \n",
    "# run the code below in a new Jupyter cell\n",
    "\n",
    "z = x + y"
   ]
  },
  {
   "cell_type": "code",
   "execution_count": 24,
   "id": "e02b9280",
   "metadata": {},
   "outputs": [
    {
     "data": {
      "text/latex": [
       "\\[\n",
       "\\begin{aligned}\n",
       "x &= 5.2 \\; \n",
       "\\\\[10pt]\n",
       "y &= 6.3 \\; \n",
       "\\\\[10pt]\n",
       "z &= x + y \\; \n",
       "\\end{aligned}\n",
       "\\]"
      ],
      "text/plain": [
       "<IPython.core.display.Latex object>"
      ]
     },
     "metadata": {},
     "output_type": "display_data"
    }
   ],
   "source": [
    "%%render symbolic #symbolic only shows the expression of functions and does not show solution\n",
    " \n",
    "x = 5.2\n",
    "y = 6.3\n",
    " \n",
    "# run the code below in a new Jupyter cell\n",
    "\n",
    "z = x + y\n",
    "\n"
   ]
  }
 ],
 "metadata": {
  "kernelspec": {
   "display_name": "Python 3 (ipykernel)",
   "language": "python",
   "name": "python3"
  },
  "language_info": {
   "codemirror_mode": {
    "name": "ipython",
    "version": 3
   },
   "file_extension": ".py",
   "mimetype": "text/x-python",
   "name": "python",
   "nbconvert_exporter": "python",
   "pygments_lexer": "ipython3",
   "version": "3.9.13"
  }
 },
 "nbformat": 4,
 "nbformat_minor": 5
}
